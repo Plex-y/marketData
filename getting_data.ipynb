{
 "cells": [
  {
   "cell_type": "code",
   "execution_count": 10,
   "id": "92fbf7be-b0b7-430c-a161-cc0d07fa3fdf",
   "metadata": {
    "tags": []
   },
   "outputs": [],
   "source": [
    "import mysql.connector as sql\n",
    "\n",
    "config = {\n",
    "    \"host\": \"------\",\n",
    "    \"port\": \"---\",\n",
    "    \"database\": \"prac\",\n",
    "    \"user\": \"----\",\n",
    "    \"password\": \"------\"\n",
    "}\n",
    "\n",
    "connection = sql.connect(**config)\n",
    "cursor = connection.cursor()\n",
    "\n",
    "query = \"SELECT * FROM prac.p_posit\"\n",
    "cursor.execute(query)\n",
    "columns = [col[0] for col in cursor.description]\n",
    "result = cursor.fetchall()\n",
    "\n",
    "cursor.close()\n",
    "connection.close()\n",
    "\n"
   ]
  },
  {
   "cell_type": "code",
   "execution_count": 7,
   "id": "b025a9b8-8f0d-418d-99f7-bbd85b87ec13",
   "metadata": {
    "tags": []
   },
   "outputs": [],
   "source": [
    "import pandas as pd"
   ]
  },
  {
   "cell_type": "code",
   "execution_count": 12,
   "id": "3b38f8f6-2b15-4c8e-b20a-be76a9b35e65",
   "metadata": {
    "tags": []
   },
   "outputs": [],
   "source": [
    "data = pd.DataFrame(result, columns = columns)"
   ]
  },
  {
   "cell_type": "code",
   "execution_count": 13,
   "id": "90032ebf-6f74-4175-a526-6735eb2fd6a4",
   "metadata": {
    "tags": []
   },
   "outputs": [
    {
     "data": {
      "text/html": [
       "<div>\n",
       "<style scoped>\n",
       "    .dataframe tbody tr th:only-of-type {\n",
       "        vertical-align: middle;\n",
       "    }\n",
       "\n",
       "    .dataframe tbody tr th {\n",
       "        vertical-align: top;\n",
       "    }\n",
       "\n",
       "    .dataframe thead th {\n",
       "        text-align: right;\n",
       "    }\n",
       "</style>\n",
       "<table border=\"1\" class=\"dataframe\">\n",
       "  <thead>\n",
       "    <tr style=\"text-align: right;\">\n",
       "      <th></th>\n",
       "      <th>Product ID</th>\n",
       "      <th>Product Position</th>\n",
       "      <th>Price</th>\n",
       "      <th>Competitor Price</th>\n",
       "      <th>Promotion</th>\n",
       "      <th>Foot Traffic</th>\n",
       "      <th>Consumer Demographics</th>\n",
       "      <th>Product Category</th>\n",
       "      <th>Seasonal</th>\n",
       "      <th>Sales Volume</th>\n",
       "    </tr>\n",
       "  </thead>\n",
       "  <tbody>\n",
       "    <tr>\n",
       "      <th>0</th>\n",
       "      <td>185102</td>\n",
       "      <td>Aisle</td>\n",
       "      <td>17.07</td>\n",
       "      <td>16.16</td>\n",
       "      <td>No</td>\n",
       "      <td>Medium</td>\n",
       "      <td>Families</td>\n",
       "      <td>Clothing</td>\n",
       "      <td>No</td>\n",
       "      <td>2823</td>\n",
       "    </tr>\n",
       "    <tr>\n",
       "      <th>1</th>\n",
       "      <td>188771</td>\n",
       "      <td>Aisle</td>\n",
       "      <td>17.41</td>\n",
       "      <td>13.13</td>\n",
       "      <td>No</td>\n",
       "      <td>Low</td>\n",
       "      <td>Seniors</td>\n",
       "      <td>Clothing</td>\n",
       "      <td>No</td>\n",
       "      <td>654</td>\n",
       "    </tr>\n",
       "    <tr>\n",
       "      <th>2</th>\n",
       "      <td>180176</td>\n",
       "      <td>End-cap</td>\n",
       "      <td>43.16</td>\n",
       "      <td>38.37</td>\n",
       "      <td>Yes</td>\n",
       "      <td>Medium</td>\n",
       "      <td>Young adults</td>\n",
       "      <td>Electronics</td>\n",
       "      <td>Yes</td>\n",
       "      <td>2220</td>\n",
       "    </tr>\n",
       "    <tr>\n",
       "      <th>3</th>\n",
       "      <td>112917</td>\n",
       "      <td>Aisle</td>\n",
       "      <td>42.26</td>\n",
       "      <td>38.98</td>\n",
       "      <td>Yes</td>\n",
       "      <td>Low</td>\n",
       "      <td>Families</td>\n",
       "      <td>Clothing</td>\n",
       "      <td>Yes</td>\n",
       "      <td>1568</td>\n",
       "    </tr>\n",
       "    <tr>\n",
       "      <th>4</th>\n",
       "      <td>192936</td>\n",
       "      <td>End-cap</td>\n",
       "      <td>47.94</td>\n",
       "      <td>45.59</td>\n",
       "      <td>No</td>\n",
       "      <td>Medium</td>\n",
       "      <td>College students</td>\n",
       "      <td>Clothing</td>\n",
       "      <td>Yes</td>\n",
       "      <td>2942</td>\n",
       "    </tr>\n",
       "  </tbody>\n",
       "</table>\n",
       "</div>"
      ],
      "text/plain": [
       "   Product ID Product Position  Price  Competitor Price Promotion  \\\n",
       "0      185102            Aisle  17.07             16.16        No   \n",
       "1      188771            Aisle  17.41             13.13        No   \n",
       "2      180176          End-cap  43.16             38.37       Yes   \n",
       "3      112917            Aisle  42.26             38.98       Yes   \n",
       "4      192936          End-cap  47.94             45.59        No   \n",
       "\n",
       "  Foot Traffic Consumer Demographics Product Category Seasonal  Sales Volume  \n",
       "0       Medium              Families         Clothing       No          2823  \n",
       "1          Low               Seniors         Clothing       No           654  \n",
       "2       Medium          Young adults      Electronics      Yes          2220  \n",
       "3          Low              Families         Clothing      Yes          1568  \n",
       "4       Medium      College students         Clothing      Yes          2942  "
      ]
     },
     "execution_count": 13,
     "metadata": {},
     "output_type": "execute_result"
    }
   ],
   "source": [
    "data.head()"
   ]
  },
  {
   "cell_type": "code",
   "execution_count": 20,
   "id": "613744dc-bbeb-4f04-a7b1-94851ea6230f",
   "metadata": {
    "tags": []
   },
   "outputs": [
    {
     "name": "stdout",
     "output_type": "stream",
     "text": [
      "<class 'pandas.core.frame.DataFrame'>\n",
      "RangeIndex: 1000 entries, 0 to 999\n",
      "Data columns (total 10 columns):\n",
      " #   Column                 Non-Null Count  Dtype  \n",
      "---  ------                 --------------  -----  \n",
      " 0   Product ID             1000 non-null   int64  \n",
      " 1   Product Position       1000 non-null   object \n",
      " 2   Price                  1000 non-null   float64\n",
      " 3   Competitor Price       1000 non-null   float64\n",
      " 4   Promotion              1000 non-null   object \n",
      " 5   Foot Traffic           1000 non-null   object \n",
      " 6   Consumer Demographics  1000 non-null   object \n",
      " 7   Product Category       1000 non-null   object \n",
      " 8   Seasonal               1000 non-null   object \n",
      " 9   Sales Volume           1000 non-null   int64  \n",
      "dtypes: float64(2), int64(2), object(6)\n",
      "memory usage: 78.3+ KB\n"
     ]
    }
   ],
   "source": [
    "data.info()"
   ]
  },
  {
   "cell_type": "code",
   "execution_count": 19,
   "id": "ca678dbc-96ef-43b4-9adb-34759bb3b255",
   "metadata": {
    "tags": []
   },
   "outputs": [
    {
     "data": {
      "text/plain": [
       "989"
      ]
     },
     "execution_count": 19,
     "metadata": {},
     "output_type": "execute_result"
    }
   ],
   "source": [
    "#number of products\n",
    "len(data['Product ID'].unique())"
   ]
  },
  {
   "cell_type": "code",
   "execution_count": 27,
   "id": "0aa06f82-c09f-4b1b-a067-cdef38b3f6f0",
   "metadata": {
    "tags": []
   },
   "outputs": [
    {
     "data": {
      "text/html": [
       "<div>\n",
       "<style scoped>\n",
       "    .dataframe tbody tr th:only-of-type {\n",
       "        vertical-align: middle;\n",
       "    }\n",
       "\n",
       "    .dataframe tbody tr th {\n",
       "        vertical-align: top;\n",
       "    }\n",
       "\n",
       "    .dataframe thead th {\n",
       "        text-align: right;\n",
       "    }\n",
       "</style>\n",
       "<table border=\"1\" class=\"dataframe\">\n",
       "  <thead>\n",
       "    <tr style=\"text-align: right;\">\n",
       "      <th></th>\n",
       "      <th>Product ID</th>\n",
       "    </tr>\n",
       "    <tr>\n",
       "      <th>Foot Traffic</th>\n",
       "      <th></th>\n",
       "    </tr>\n",
       "  </thead>\n",
       "  <tbody>\n",
       "    <tr>\n",
       "      <th>High</th>\n",
       "      <td>340</td>\n",
       "    </tr>\n",
       "    <tr>\n",
       "      <th>Low</th>\n",
       "      <td>322</td>\n",
       "    </tr>\n",
       "    <tr>\n",
       "      <th>Medium</th>\n",
       "      <td>338</td>\n",
       "    </tr>\n",
       "  </tbody>\n",
       "</table>\n",
       "</div>"
      ],
      "text/plain": [
       "              Product ID\n",
       "Foot Traffic            \n",
       "High                 340\n",
       "Low                  322\n",
       "Medium               338"
      ]
     },
     "execution_count": 27,
     "metadata": {},
     "output_type": "execute_result"
    }
   ],
   "source": [
    "pd.DataFrame(data.groupby('Foot Traffic')['Product ID'].count())"
   ]
  },
  {
   "cell_type": "code",
   "execution_count": 26,
   "id": "991c0bd3-5fba-49f0-b6d2-6fbf8c946835",
   "metadata": {
    "tags": []
   },
   "outputs": [
    {
     "data": {
      "text/html": [
       "<div>\n",
       "<style scoped>\n",
       "    .dataframe tbody tr th:only-of-type {\n",
       "        vertical-align: middle;\n",
       "    }\n",
       "\n",
       "    .dataframe tbody tr th {\n",
       "        vertical-align: top;\n",
       "    }\n",
       "\n",
       "    .dataframe thead th {\n",
       "        text-align: right;\n",
       "    }\n",
       "</style>\n",
       "<table border=\"1\" class=\"dataframe\">\n",
       "  <thead>\n",
       "    <tr style=\"text-align: right;\">\n",
       "      <th></th>\n",
       "      <th>Product ID</th>\n",
       "    </tr>\n",
       "    <tr>\n",
       "      <th>Product Position</th>\n",
       "      <th></th>\n",
       "    </tr>\n",
       "  </thead>\n",
       "  <tbody>\n",
       "    <tr>\n",
       "      <th>Aisle</th>\n",
       "      <td>340</td>\n",
       "    </tr>\n",
       "    <tr>\n",
       "      <th>End-cap</th>\n",
       "      <td>342</td>\n",
       "    </tr>\n",
       "    <tr>\n",
       "      <th>Front of Store</th>\n",
       "      <td>318</td>\n",
       "    </tr>\n",
       "  </tbody>\n",
       "</table>\n",
       "</div>"
      ],
      "text/plain": [
       "                  Product ID\n",
       "Product Position            \n",
       "Aisle                    340\n",
       "End-cap                  342\n",
       "Front of Store           318"
      ]
     },
     "execution_count": 26,
     "metadata": {},
     "output_type": "execute_result"
    }
   ],
   "source": [
    "pd.DataFrame(data.groupby('Product Position')['Product ID'].count())"
   ]
  },
  {
   "cell_type": "code",
   "execution_count": 35,
   "id": "9c42760e-3b6d-4174-a52f-f1dcbe04ee55",
   "metadata": {
    "tags": []
   },
   "outputs": [
    {
     "name": "stdout",
     "output_type": "stream",
     "text": [
      "Product Position:  ['Aisle' 'End-cap' 'Front of Store']\n",
      "Promotion:  ['No' 'Yes']\n",
      "Foot Traffic:  ['Medium' 'Low' 'High']\n",
      "Consumer Demographics:  ['Families' 'Seniors' 'Young adults' 'College students']\n",
      "Product Category:  ['Clothing' 'Electronics' 'Food']\n",
      "Seasonal:  ['No' 'Yes']\n"
     ]
    }
   ],
   "source": [
    "#UNIQUE values\n",
    "unique_values_dict = {}\n",
    "\n",
    "for col in data.select_dtypes('object').columns:\n",
    "    print(f'{col}: ', data[col].unique())"
   ]
  },
  {
   "cell_type": "code",
   "execution_count": null,
   "id": "a426c5e1-38e5-44c7-bd75-ef727d94b252",
   "metadata": {},
   "outputs": [],
   "source": [
    "#saving data\n",
    "df.to_csv('data.csv', index=False)"
   ]
  }
 ],
 "metadata": {
  "kernelspec": {
   "display_name": "Python 3 (ipykernel)",
   "language": "python",
   "name": "python3"
  },
  "language_info": {
   "codemirror_mode": {
    "name": "ipython",
    "version": 3
   },
   "file_extension": ".py",
   "mimetype": "text/x-python",
   "name": "python",
   "nbconvert_exporter": "python",
   "pygments_lexer": "ipython3",
   "version": "3.11.5"
  }
 },
 "nbformat": 4,
 "nbformat_minor": 5
}
